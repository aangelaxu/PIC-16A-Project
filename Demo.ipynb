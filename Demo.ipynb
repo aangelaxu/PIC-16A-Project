{
 "cells": [
  {
   "cell_type": "code",
   "execution_count": 2,
   "id": "2d7d2ae4",
   "metadata": {},
   "outputs": [],
   "source": [
    "import random"
   ]
  },
  {
   "cell_type": "code",
   "execution_count": 3,
   "id": "7415ef9c",
   "metadata": {},
   "outputs": [],
   "source": [
    "from Player import Player, HumanPlayer, ComputerPlayer\n",
    "from Game import Game\n",
    "from Board import Board"
   ]
  },
  {
   "cell_type": "code",
   "execution_count": 4,
   "id": "022d1edf",
   "metadata": {},
   "outputs": [],
   "source": [
    "def mainFunction():\n",
    "    '''\n",
    "    Arguments: none\n",
    "    Returns: none\n",
    "    \n",
    "    Creates a Game class object, and calls the CreateGame() method of the game class to begin setting up the game\n",
    "    \n",
    "    '''\n",
    "    tictactoe = Game()\n",
    "    tictactoe.CreateGame()"
   ]
  },
  {
   "cell_type": "code",
   "execution_count": null,
   "id": "6f70f276",
   "metadata": {},
   "outputs": [
    {
     "name": "stdout",
     "output_type": "stream",
     "text": [
      "Welcome to Variable Tic Tac Toe.\n",
      "What size n * n you like the grid to be? (Must be between 3 and 20)\n"
     ]
    }
   ],
   "source": [
    "mainFunction()"
   ]
  },
  {
   "cell_type": "code",
   "execution_count": null,
   "id": "b42fa87a",
   "metadata": {},
   "outputs": [],
   "source": [
    "#To instantly play a game with 2 human players on a 5 by 5 grid, connect 3 to win\n",
    "\n",
    "BoardGame = Board(5, 5, 3, HumanPlayer(\"Player1\"), HumanPlayer(\"Player2\"))\n",
    "BoardGame.playGame()"
   ]
  },
  {
   "cell_type": "code",
   "execution_count": null,
   "id": "ce820ddc",
   "metadata": {},
   "outputs": [],
   "source": [
    "#To instantly play a game with 1 human player, on a 5 by 5 grid, connect 3 to win\n",
    "\n",
    "BoardGame = Board(5, 5, 3, HumanPlayer(\"Player1\"), ComputerPlayer())\n",
    "BoardGame.playGame()"
   ]
  },
  {
   "cell_type": "code",
   "execution_count": null,
   "id": "01fcfd49",
   "metadata": {},
   "outputs": [],
   "source": [
    "#To instantly play a game with 2 computer players, on a 5 by 5 grid, connect 3 to win \n",
    "\n",
    "BoardGame = Board(5, 5, 3, ComputerPlayer(), ComputerPlayer())\n",
    "BoardGame.playGame()"
   ]
  },
  {
   "cell_type": "code",
   "execution_count": null,
   "id": "e596995b",
   "metadata": {},
   "outputs": [],
   "source": []
  }
 ],
 "metadata": {
  "kernelspec": {
   "display_name": "Python 3 (ipykernel)",
   "language": "python",
   "name": "python3"
  },
  "language_info": {
   "codemirror_mode": {
    "name": "ipython",
    "version": 3
   },
   "file_extension": ".py",
   "mimetype": "text/x-python",
   "name": "python",
   "nbconvert_exporter": "python",
   "pygments_lexer": "ipython3",
   "version": "3.9.7"
  }
 },
 "nbformat": 4,
 "nbformat_minor": 5
}
